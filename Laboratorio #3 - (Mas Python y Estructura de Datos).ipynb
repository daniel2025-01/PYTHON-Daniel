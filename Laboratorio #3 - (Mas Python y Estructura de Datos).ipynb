{
 "cells": [
  {
   "cell_type": "markdown",
   "id": "219552c0-2d9e-4778-9294-c15a4581cc31",
   "metadata": {},
   "source": [
    "# 1. . Cree un procedimiento en Python dado un numero entero en decimal despliegue su representacion en numero binario."
   ]
  },
  {
   "cell_type": "code",
   "execution_count": 9,
   "id": "6332d1ac-fd2e-490f-99ec-7d7c84771eb6",
   "metadata": {},
   "outputs": [
    {
     "name": "stdin",
     "output_type": "stream",
     "text": [
      "Ingrese un número entero:  1\n"
     ]
    },
    {
     "name": "stdout",
     "output_type": "stream",
     "text": [
      "El número 1 en binario es: 1\n"
     ]
    }
   ],
   "source": [
    "def decimal_a_binario(numero):\n",
    "    \"\"\"Convierte un número entero decimal a su representación binaria.\"\"\"\n",
    "    if numero < 0:\n",
    "        print(\"Por favor, ingrese un número entero positivo.\")\n",
    "        return\n",
    "    \n",
    "    binario = bin(numero)[2:]  \n",
    "    print(f\"El número {numero} en binario es: {binario}\")\n",
    "\n",
    "\n",
    "num = int(input(\"Ingrese un número entero: \"))\n",
    "decimal_a_binario(num)"
   ]
  },
  {
   "cell_type": "markdown",
   "id": "429086f5-7f7e-4246-b29a-765183a932bf",
   "metadata": {},
   "source": [
    "# 2. Desarrolle en Python una funcion que devuelva verdadero si un numero entero que recibe como parametro es primo y devuelva falso en el caso contrario."
   ]
  },
  {
   "cell_type": "code",
   "execution_count": 10,
   "id": "3557af6f-8d50-4cea-a91c-0be0ead11eb2",
   "metadata": {},
   "outputs": [
    {
     "name": "stdin",
     "output_type": "stream",
     "text": [
      "Ingrese un número entero:  5\n"
     ]
    },
    {
     "name": "stdout",
     "output_type": "stream",
     "text": [
      "5 es un número primo.\n"
     ]
    }
   ],
   "source": [
    "def es_primo(n):\n",
    "    \"\"\"Devuelve True si el número es primo, False en caso contrario.\"\"\"\n",
    "    if n < 2:\n",
    "        return False\n",
    "    for i in range(2, int(n ** 0.5) + 1):  \n",
    "        if n % i == 0:\n",
    "            return False\n",
    "    return True\n",
    "\n",
    "\n",
    "num = int(input(\"Ingrese un número entero: \"))\n",
    "if es_primo(num):\n",
    "    print(f\"{num} es un número primo.\")\n",
    "else:\n",
    "    print(f\"{num} no es un número primo.\")"
   ]
  },
  {
   "cell_type": "markdown",
   "id": "9642e017-c460-4209-bdfe-125212166ac3",
   "metadata": {},
   "source": [
    "# 3. Haga un programa en Python que dada una lista de n numeros, calcule la desviacion estandar del conjunto de numeros, para este ejercicio no puede utilizar ninguna funcion que resuelva el problema."
   ]
  },
  {
   "cell_type": "code",
   "execution_count": 11,
   "id": "b28bbd6a-4e21-41df-a650-d4bd7453875b",
   "metadata": {},
   "outputs": [
    {
     "name": "stdout",
     "output_type": "stream",
     "text": [
      "La desviación estándar del conjunto de números es: 4.898979485566356\n"
     ]
    }
   ],
   "source": [
    "def calcular_desviacion_estandar(lista):\n",
    "    \"\"\"Calcula la desviación estándar de una lista de números sin usar funciones predefinidas.\"\"\"\n",
    "    \n",
    "    \n",
    "    suma = 0\n",
    "    n = len(lista)\n",
    "    \n",
    "    for num in lista:\n",
    "        suma += num\n",
    "    media = suma / n\n",
    "    \n",
    "    \n",
    "    suma_cuadrados = 0\n",
    "    for num in lista:\n",
    "        suma_cuadrados += (num - media) ** 2\n",
    "    \n",
    "    \n",
    "    desviacion_estandar = (suma_cuadrados / n) ** 0.5  \n",
    "    \n",
    "    return desviacion_estandar\n",
    "\n",
    "\n",
    "numeros = [10, 12, 23, 23, 16, 23, 21, 16]  \n",
    "resultado = calcular_desviacion_estandar(numeros)\n",
    "print(f\"La desviación estándar del conjunto de números es: {resultado}\")"
   ]
  },
  {
   "cell_type": "markdown",
   "id": "134ca8e8-c410-4e54-b3c6-dc8e24ad2bc0",
   "metadata": {},
   "source": [
    "# 4. Desarrolle en Python una funcion que dado un arreglo de corra el algoritmo de ordenamiento burbuja y devuelva un nuevo arreglo ordenado. Posteriormente cree una funcion main para probar su funcion."
   ]
  },
  {
   "cell_type": "code",
   "execution_count": 12,
   "id": "bd18bf08-4146-4de3-89c6-b18c6ce6199e",
   "metadata": {},
   "outputs": [
    {
     "name": "stdout",
     "output_type": "stream",
     "text": [
      "Lista original: [64, 34, 25, 12, 22, 11, 90]\n",
      "Lista ordenada: [11, 12, 22, 25, 34, 64, 90]\n"
     ]
    }
   ],
   "source": [
    "def ordenamiento_burbuja(arr):\n",
    "    \"\"\"Ordena un arreglo utilizando el algoritmo de burbuja y devuelve el arreglo ordenado.\"\"\"\n",
    "    n = len(arr)\n",
    "    \n",
    "   \n",
    "    for i in range(n - 1):\n",
    "        for j in range(n - 1 - i):  \n",
    "            if arr[j] > arr[j + 1]:  \n",
    "                arr[j], arr[j + 1] = arr[j + 1], arr[j]\n",
    "    \n",
    "    return arr  \n",
    "\n",
    "\n",
    "def main():\n",
    "    lista = [64, 34, 25, 12, 22, 11, 90]  \n",
    "    print(\"Lista original:\", lista)\n",
    "    \n",
    "    lista_ordenada = ordenamiento_burbuja(lista.copy())  \n",
    "    print(\"Lista ordenada:\", lista_ordenada)\n",
    "\n",
    "\n",
    "if __name__ == \"__main__\":\n",
    "    main()"
   ]
  },
  {
   "cell_type": "markdown",
   "id": "2bb600e3-ec44-41bf-a5bd-5f0e8ccbcabf",
   "metadata": {},
   "source": [
    "# 5. Escriba una funcion en Python que dada una tupla de elementos (numeros o letras) esta se convierta a un string."
   ]
  },
  {
   "cell_type": "code",
   "execution_count": 13,
   "id": "2ad706e2-8aa2-44ec-94a7-84aee2d1a420",
   "metadata": {},
   "outputs": [
    {
     "name": "stdout",
     "output_type": "stream",
     "text": [
      "Salida: 102040570\n"
     ]
    }
   ],
   "source": [
    "def tupla_a_string(tupla):\n",
    "    \"\"\"Convierte una tupla de elementos (números o letras) en un string.\"\"\"\n",
    "    return ''.join(map(str, tupla))  \n",
    "\n",
    "\n",
    "entrada = (10, 20, 40, 5, 70)\n",
    "resultado = tupla_a_string(entrada)\n",
    "print(\"Salida:\", resultado)"
   ]
  },
  {
   "cell_type": "markdown",
   "id": "2b068304-3a86-4513-9845-2237e77f43ce",
   "metadata": {},
   "source": [
    "# 6. Cree un programa en Python que dada una lista de tuplas, elimine las tuplas que estan vacas."
   ]
  },
  {
   "cell_type": "code",
   "execution_count": 14,
   "id": "3a91b5fb-6895-4d33-9a48-4bd5d0f0ad00",
   "metadata": {},
   "outputs": [
    {
     "name": "stdout",
     "output_type": "stream",
     "text": [
      "Lista sin tuplas vacías: [('X',), ('a', 'b'), ('a', 'b', 'c'), ('d',)]\n"
     ]
    }
   ],
   "source": [
    "def eliminar_tuplas_vacias(lista):\n",
    "    \"\"\"Elimina las tuplas vacías de una lista de tuplas.\"\"\"\n",
    "    return [tupla for tupla in lista if tupla]  \n",
    "\n",
    "\n",
    "lista_tuplas = [(), (), (\"X\",), (\"a\", \"b\"), (\"a\", \"b\", \"c\"), (\"d\",)]\n",
    "resultado = eliminar_tuplas_vacias(lista_tuplas)\n",
    "\n",
    "print(\"Lista sin tuplas vacías:\", resultado)"
   ]
  },
  {
   "cell_type": "markdown",
   "id": "5bd0e189-72ad-4382-8757-598d2921bf97",
   "metadata": {},
   "source": [
    "# 7. Cree una funcion en Python que dada una tupla de tuplas con numeros, produzca una tupla con el promedio de cada tupla individual."
   ]
  },
  {
   "cell_type": "code",
   "execution_count": 15,
   "id": "08e6cfde-b9e9-4ec6-9d3a-25dc5c6573ee",
   "metadata": {},
   "outputs": [
    {
     "name": "stdout",
     "output_type": "stream",
     "text": [
      "Promedios por tupla: (10.5, 44.0, 58.0)\n"
     ]
    }
   ],
   "source": [
    "def promedios_por_tupla(tuplas):\n",
    "    \"\"\"Calcula el promedio de cada tupla individual dentro de una tupla de tuplas.\"\"\"\n",
    "    return tuple(sum(tupla) / len(tupla) for tupla in tuplas)  \n",
    "\n",
    "\n",
    "entrada = ((10, 10, 10, 12), (30, 45, 56, 45), (81, 80, 39, 32))\n",
    "resultado = promedios_por_tupla(entrada)\n",
    "\n",
    "print(\"Promedios por tupla:\", resultado)"
   ]
  },
  {
   "cell_type": "markdown",
   "id": "1ca1d2d7-30f4-4149-ba09-7a1163f9e5f5",
   "metadata": {},
   "source": [
    "# 8. El objetivo es crear una representacion de un libro usando programacion orientada a objetos. Debes de nir una clase llamada Libro que tenga atributos como el ttulo, el autor, el numero de paginas y un indicador de si el libro ha sido ledo o no."
   ]
  },
  {
   "cell_type": "code",
   "execution_count": 16,
   "id": "365ca551-0423-4af4-90dd-df8b43128954",
   "metadata": {},
   "outputs": [
    {
     "name": "stdout",
     "output_type": "stream",
     "text": [
      "📖 '1984' de George Orwell - 328 páginas - Estado: No leído\n",
      "📖 '1984' de George Orwell - 328 páginas - Estado: Leído\n"
     ]
    }
   ],
   "source": [
    "class Libro:\n",
    "    \"\"\"Clase que representa un libro con título, autor, número de páginas y estado de lectura.\"\"\"\n",
    "    \n",
    "    def __init__(self, titulo, autor, num_paginas, leido=False):\n",
    "        \"\"\"Inicializa un nuevo libro con su información.\"\"\"\n",
    "        self.titulo = titulo\n",
    "        self.autor = autor\n",
    "        self.num_paginas = num_paginas\n",
    "        self.leido = leido  \n",
    "\n",
    "    def marcar_como_leido(self):\n",
    "        \"\"\"Marca el libro como leído.\"\"\"\n",
    "        self.leido = True\n",
    "\n",
    "    def obtener_descripcion(self):\n",
    "        \"\"\"Devuelve una descripción legible del libro.\"\"\"\n",
    "        estado = \"Leído\" if self.leido else \"No leído\"\n",
    "        return f\"📖 '{self.titulo}' de {self.autor} - {self.num_paginas} páginas - Estado: {estado}\"\n",
    "\n",
    "\n",
    "libro1 = Libro(\"1984\", \"George Orwell\", 328)\n",
    "print(libro1.obtener_descripcion())  \n",
    "\n",
    "libro1.marcar_como_leido()\n",
    "print(libro1.obtener_descripcion())  \n"
   ]
  },
  {
   "cell_type": "markdown",
   "id": "1b316609-76af-451b-9bd7-310eba6bc5b9",
   "metadata": {},
   "source": [
    "# 9. Cree una clase llamada Circulo con un atributo para el radio del crculo."
   ]
  },
  {
   "cell_type": "code",
   "execution_count": 17,
   "id": "8029c218-0129-47ad-af55-7bf6c0510ba7",
   "metadata": {},
   "outputs": [
    {
     "name": "stdout",
     "output_type": "stream",
     "text": [
      "Radio del círculo: 5\n",
      "Área del círculo: 78.54\n",
      "Circunferencia del círculo: 31.42\n"
     ]
    }
   ],
   "source": [
    "import math  \n",
    "\n",
    "class Circulo:\n",
    "    \"\"\"Clase que representa un círculo con un radio y métodos para calcular su área y circunferencia.\"\"\"\n",
    "    \n",
    "    def __init__(self, radio):\n",
    "        \"\"\"Inicializa un nuevo círculo con su radio.\"\"\"\n",
    "        self.radio = radio\n",
    "\n",
    "    def calcular_area(self):\n",
    "        \"\"\"Calcula y devuelve el área del círculo.\"\"\"\n",
    "        return math.pi * (self.radio ** 2)\n",
    "\n",
    "    def calcular_circunferencia(self):\n",
    "        \"\"\"Calcula y devuelve la circunferencia del círculo.\"\"\"\n",
    "        return 2 * math.pi * self.radio\n",
    "\n",
    "\n",
    "circulo1 = Circulo(5)\n",
    "print(f\"Radio del círculo: {circulo1.radio}\")\n",
    "print(f\"Área del círculo: {circulo1.calcular_area():.2f}\")\n",
    "print(f\"Circunferencia del círculo: {circulo1.calcular_circunferencia():.2f}\")"
   ]
  },
  {
   "cell_type": "code",
   "execution_count": null,
   "id": "c1179c71-c76b-483f-8b88-a806a81dacfc",
   "metadata": {},
   "outputs": [],
   "source": []
  }
 ],
 "metadata": {
  "kernelspec": {
   "display_name": "Python 3 (ipykernel)",
   "language": "python",
   "name": "python3"
  },
  "language_info": {
   "codemirror_mode": {
    "name": "ipython",
    "version": 3
   },
   "file_extension": ".py",
   "mimetype": "text/x-python",
   "name": "python",
   "nbconvert_exporter": "python",
   "pygments_lexer": "ipython3",
   "version": "3.9.12"
  }
 },
 "nbformat": 4,
 "nbformat_minor": 5
}
